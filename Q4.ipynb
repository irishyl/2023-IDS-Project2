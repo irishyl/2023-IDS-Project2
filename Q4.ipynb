{
 "cells": [
  {
   "cell_type": "markdown",
   "id": "9f08c774",
   "metadata": {},
   "source": [
    "# Question 4\n",
    "Repeat question 3) with LASSO regression. Again, make sure to comment on the hyperparameters you use and betas you find by doing so."
   ]
  },
  {
   "cell_type": "code",
   "execution_count": 2,
   "id": "9780f2f2",
   "metadata": {},
   "outputs": [
    {
     "name": "stdout",
     "output_type": "stream",
     "text": [
      "                                     Movie      RMSE  Best Alpha\n",
      "0                             Rocky (1976)  0.537241        0.01\n",
      "1                          Big Fish (2003)  0.357772        0.01\n",
      "2                       Taxi Driver (1976)  0.348372        0.01\n",
      "3                        Braveheart (1995)  0.386293        0.01\n",
      "4               Lost in Translation (2003)  0.396276        0.01\n",
      "5                        Crossroads (2002)  0.305125        0.01\n",
      "6                          Magnolia (1999)  0.380668        0.01\n",
      "7                  Just Like Heaven (2005)  0.352385        0.01\n",
      "8             Gone in Sixty Seconds (2000)  0.320425        0.01\n",
      "9                        Armageddon (1998)  0.400121        0.01\n",
      "10                       The Others (2001)  0.398531        0.01\n",
      "11                        Cast Away (2000)  0.372031        0.01\n",
      "12                         The Mist (2007)  0.353578        0.01\n",
      "13                            Honey (2003)  0.399347        0.01\n",
      "14                    Baby Geniuses (1999)  0.418797        0.01\n",
      "15                     Donnie Darko (2001)  0.523310        0.01\n",
      "16                      Man on Fire (2004)  0.286527        0.01\n",
      "17  One Flew Over the Cuckoo's Nest (1975)  0.398669        0.01\n",
      "18                           Aliens (1986)  0.337336        0.01\n",
      "19                          Memento (2000)  0.443209        0.01\n",
      "20              Blues Brothers 2000 (1998)  0.294129        0.01\n",
      "21                    Arachnophobia (1990)  0.329301        0.01\n",
      "22                        The Thing (1982)  0.355225        0.01\n",
      "23                    28 Days Later (2002)  0.381530        0.01\n",
      "24          Who Framed Roger Rabbit (1988)  0.433248        0.01\n",
      "25                Kill Bill: Vol. 2 (2004)  0.405181        0.01\n",
      "26           Angels in the Outfield (1994)  0.429486        0.01\n",
      "27                         Hannibal (2001)  0.316182        0.01\n",
      "28             Let the Right One In (2008)  0.260100        0.01\n",
      "29                     The Prestige (2006)  0.398752        0.01\n"
     ]
    }
   ],
   "source": [
    "import pandas as pd\n",
    "import numpy as np\n",
    "from sklearn.linear_model import Lasso\n",
    "from sklearn.impute import SimpleImputer\n",
    "from sklearn.metrics import mean_squared_error\n",
    "from sklearn.model_selection import train_test_split, GridSearchCV\n",
    "import random\n",
    "\n",
    "# Load the movie ratings dataset\n",
    "data = pd.read_csv('/Users/lobster/Desktop/Movie Replication Set.csv')\n",
    "\n",
    "# Load the results_df from the CSV file\n",
    "results_df = pd.read_csv('/Users/lobster/Desktop/results_df.csv')\n",
    "\n",
    "# Select 30 movies from the middle of the COD range\n",
    "mid_range_movies = results_df.sort_values('COD').iloc[185:215]['Target Movie']\n",
    "\n",
    "# Initialize the DataFrame to store RMSE for each movie\n",
    "lasso_rmse_df = pd.DataFrame(columns=['Movie', 'RMSE', 'Best Alpha'])\n",
    "\n",
    "# Select 10 random movies to use as predictors (outside the loop)\n",
    "all_movies = list(set(data.columns) - set(mid_range_movies))\n",
    "predictor_movies = random.sample(all_movies, 10)\n",
    "\n",
    "# Iterate over the 30 movies\n",
    "for movie in mid_range_movies:\n",
    "    # Prepare the data with the fixed predictor movies\n",
    "    X = data[predictor_movies]\n",
    "    y = data[movie]\n",
    "\n",
    "    # Handle missing values in X\n",
    "    imputer = SimpleImputer(strategy='mean')\n",
    "    X_imputed = imputer.fit_transform(X)\n",
    "\n",
    "    # Train/test split\n",
    "    X_train, X_test, y_train, y_test = train_test_split(X_imputed, y, test_size=0.2, random_state=42)\n",
    "\n",
    "    # LASSO regression with hyperparameter tuning\n",
    "    parameters = {'alpha': [0.01, 0.1, 1, 10, 100]}\n",
    "    lasso = Lasso()\n",
    "    clf = GridSearchCV(lasso, parameters, scoring='neg_mean_squared_error')\n",
    "    clf.fit(X_train, y_train)\n",
    "\n",
    "    # Best model\n",
    "    best_alpha = clf.best_params_['alpha']\n",
    "    best_model = clf.best_estimator_\n",
    "\n",
    "    # Predict and calculate RMSE\n",
    "    y_pred = best_model.predict(X_test)\n",
    "    rmse = np.sqrt(mean_squared_error(y_test, y_pred))\n",
    "\n",
    "    # Append to DataFrame\n",
    "    lasso_rmse_df = pd.concat([lasso_rmse_df, pd.DataFrame({'Movie': [movie], 'RMSE': [rmse], 'Best Alpha': [best_alpha]})], ignore_index=True)\n",
    "\n",
    "# Print the results\n",
    "print(lasso_rmse_df)\n"
   ]
  },
  {
   "cell_type": "code",
   "execution_count": null,
   "id": "abdd2fb7",
   "metadata": {},
   "outputs": [],
   "source": []
  }
 ],
 "metadata": {
  "kernelspec": {
   "display_name": "Python 3 (ipykernel)",
   "language": "python",
   "name": "python3"
  },
  "language_info": {
   "codemirror_mode": {
    "name": "ipython",
    "version": 3
   },
   "file_extension": ".py",
   "mimetype": "text/x-python",
   "name": "python",
   "nbconvert_exporter": "python",
   "pygments_lexer": "ipython3",
   "version": "3.11.4"
  }
 },
 "nbformat": 4,
 "nbformat_minor": 5
}
