{
 "cells": [
  {
   "cell_type": "markdown",
   "id": "ab97cfb3",
   "metadata": {},
   "source": [
    "# Question 3\n",
    " Pick 30 movies in the middle of the COD range, as identified by question 1 (that were not used in question 2). Now build a regularized regression model with the ratings from 10 other movies (picked randomly, or deliberately by you) as an input. Please use ridge regression, and make sure to do suitable hyperparameter tuning. Also make sure to report the RMSE for each of these 30 movies in a table, after doing an 80/20 train/test split. Comment on the hyperparameters you use and betas you find by doing so."
   ]
  },
  {
   "cell_type": "code",
   "execution_count": 8,
   "id": "486ee697",
   "metadata": {},
   "outputs": [
    {
     "name": "stdout",
     "output_type": "stream",
     "text": [
      "                                     Movie      RMSE Best Alpha\n",
      "0                             Rocky (1976)  0.561674         10\n",
      "1                          Big Fish (2003)  0.359195         10\n",
      "2                       Taxi Driver (1976)  0.400831         10\n",
      "3                        Braveheart (1995)  0.429668        100\n",
      "4               Lost in Translation (2003)  0.446424          1\n",
      "5                        Crossroads (2002)  0.343732         10\n",
      "6                          Magnolia (1999)  0.399788         10\n",
      "7                  Just Like Heaven (2005)  0.357410         10\n",
      "8             Gone in Sixty Seconds (2000)  0.336190         10\n",
      "9                        Armageddon (1998)  0.407875        100\n",
      "10                       The Others (2001)  0.347105         10\n",
      "11                        Cast Away (2000)  0.387006        100\n",
      "12                         The Mist (2007)  0.392115         10\n",
      "13                            Honey (2003)  0.437530         10\n",
      "14                    Baby Geniuses (1999)  0.438911        100\n",
      "15                     Donnie Darko (2001)  0.543311        100\n",
      "16                      Man on Fire (2004)  0.296421         10\n",
      "17  One Flew Over the Cuckoo's Nest (1975)  0.422060         10\n",
      "18                           Aliens (1986)  0.394202         10\n",
      "19                          Memento (2000)  0.459593        100\n",
      "20              Blues Brothers 2000 (1998)  0.328002         10\n",
      "21                    Arachnophobia (1990)  0.331353         10\n",
      "22                        The Thing (1982)  0.388512         10\n",
      "23                    28 Days Later (2002)  0.388289         10\n",
      "24          Who Framed Roger Rabbit (1988)  0.454284        100\n",
      "25                Kill Bill: Vol. 2 (2004)  0.456498         10\n",
      "26           Angels in the Outfield (1994)  0.442185        100\n",
      "27                         Hannibal (2001)  0.387071         10\n",
      "28             Let the Right One In (2008)  0.298307         10\n",
      "29                     The Prestige (2006)  0.436252        100\n"
     ]
    }
   ],
   "source": [
    "import pandas as pd\n",
    "import numpy as np\n",
    "from sklearn.linear_model import Ridge\n",
    "from sklearn.impute import SimpleImputer\n",
    "from sklearn.metrics import mean_squared_error\n",
    "from sklearn.model_selection import train_test_split, GridSearchCV\n",
    "import random\n",
    "\n",
    "# Load the movie ratings dataset\n",
    "data = pd.read_csv('/Users/lobster/Desktop/Movie Replication Set.csv')\n",
    "\n",
    "# Load the results_df from the CSV file\n",
    "results_df = pd.read_csv('/Users/lobster/Desktop/results_df.csv')\n",
    "\n",
    "# Select 30 movies from the middle of the COD range\n",
    "mid_range_movies = results_df.sort_values('COD').iloc[185:215]['Target Movie']\n",
    "\n",
    "# Initialize the DataFrame to store RMSE for each movie\n",
    "rmse_df = pd.DataFrame(columns=['Movie', 'RMSE', 'Best Alpha'])\n",
    "\n",
    "# Select 10 random movies to use as predictors (outside the loop)\n",
    "all_movies = list(set(data.columns))\n",
    "predictor_movies = random.sample(all_movies, 10)\n",
    "\n",
    "# Iterate over the 30 movies\n",
    "for movie in mid_range_movies:\n",
    "    # Prepare the data with the fixed predictor movies\n",
    "    X = data[predictor_movies]\n",
    "    y = data[movie]\n",
    "\n",
    "    # Handle missing values in X\n",
    "    imputer = SimpleImputer(strategy='mean') # or 'median', 'most_frequent', etc.\n",
    "    X_imputed = imputer.fit_transform(X)\n",
    "\n",
    "    # Train/test split\n",
    "    X_train, X_test, y_train, y_test = train_test_split(X_imputed, y, test_size=0.2, random_state=42)\n",
    "\n",
    "    # Ridge regression with hyperparameter tuning\n",
    "    parameters = {'alpha': [0.01, 0.1, 1, 10, 100]}\n",
    "    ridge = Ridge()\n",
    "    clf = GridSearchCV(ridge, parameters, scoring='neg_mean_squared_error')\n",
    "    clf.fit(X_train, y_train)\n",
    "\n",
    "    # Best model\n",
    "    best_alpha = clf.best_params_['alpha']\n",
    "    best_model = clf.best_estimator_\n",
    "\n",
    "    # Predict and calculate RMSE\n",
    "    y_pred = best_model.predict(X_test)\n",
    "    rmse = np.sqrt(mean_squared_error(y_test, y_pred))\n",
    "\n",
    "    # Append to DataFrame\n",
    "    rmse_df = pd.concat([rmse_df, pd.DataFrame({'Movie': [movie], 'RMSE': [rmse], 'Best Alpha': [best_alpha]})], ignore_index=True)\n",
    "\n",
    "# Print the results\n",
    "print(rmse_df)\n"
   ]
  },
  {
   "cell_type": "code",
   "execution_count": null,
   "id": "3f5b0081",
   "metadata": {},
   "outputs": [],
   "source": [
    "\n",
    "    "
   ]
  },
  {
   "cell_type": "code",
   "execution_count": null,
   "id": "a0304759",
   "metadata": {},
   "outputs": [],
   "source": []
  },
  {
   "cell_type": "code",
   "execution_count": null,
   "id": "8aa2c6cb",
   "metadata": {},
   "outputs": [],
   "source": []
  },
  {
   "cell_type": "code",
   "execution_count": null,
   "id": "528d0e88",
   "metadata": {},
   "outputs": [],
   "source": []
  }
 ],
 "metadata": {
  "kernelspec": {
   "display_name": "Python 3 (ipykernel)",
   "language": "python",
   "name": "python3"
  },
  "language_info": {
   "codemirror_mode": {
    "name": "ipython",
    "version": 3
   },
   "file_extension": ".py",
   "mimetype": "text/x-python",
   "name": "python",
   "nbconvert_exporter": "python",
   "pygments_lexer": "ipython3",
   "version": "3.11.4"
  }
 },
 "nbformat": 4,
 "nbformat_minor": 5
}
